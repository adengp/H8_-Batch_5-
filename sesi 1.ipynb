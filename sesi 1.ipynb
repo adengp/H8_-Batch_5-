{
 "cells": [
  {
   "cell_type": "code",
   "execution_count": 8,
   "id": "8ffcb5ef",
   "metadata": {
    "scrolled": true
   },
   "outputs": [
    {
     "name": "stdout",
     "output_type": "stream",
     "text": [
      "1\n",
      "<class 'int'>\n"
     ]
    }
   ],
   "source": [
    "print(1)\n",
    "print(type(1))"
   ]
  },
  {
   "cell_type": "code",
   "execution_count": 7,
   "id": "3b3579c6",
   "metadata": {
    "scrolled": true
   },
   "outputs": [
    {
     "name": "stdout",
     "output_type": "stream",
     "text": [
      "0.2\n",
      "<class 'float'>\n"
     ]
    }
   ],
   "source": [
    "print(.2)\n",
    "print(type(.2))"
   ]
  },
  {
   "cell_type": "code",
   "execution_count": 11,
   "id": "cebb4f96",
   "metadata": {},
   "outputs": [
    {
     "name": "stdout",
     "output_type": "stream",
     "text": [
      "hello world\n",
      "<class 'str'>\n"
     ]
    }
   ],
   "source": [
    "print(\"hello world\")\n",
    "print(type(\"hello world\"))"
   ]
  },
  {
   "cell_type": "code",
   "execution_count": 14,
   "id": "2739a71d",
   "metadata": {},
   "outputs": [
    {
     "name": "stdout",
     "output_type": "stream",
     "text": [
      "True\n",
      "<class 'bool'>\n"
     ]
    }
   ],
   "source": [
    "print(True)\n",
    "print(type(False))"
   ]
  },
  {
   "cell_type": "code",
   "execution_count": 16,
   "id": "05aa49a4",
   "metadata": {},
   "outputs": [
    {
     "name": "stdout",
     "output_type": "stream",
     "text": [
      "300\n"
     ]
    }
   ],
   "source": [
    "a = 300\n",
    "print(a)\n"
   ]
  },
  {
   "cell_type": "code",
   "execution_count": 19,
   "id": "2a521f82",
   "metadata": {},
   "outputs": [
    {
     "name": "stdout",
     "output_type": "stream",
     "text": [
      "10\n",
      "10\n",
      "10\n",
      "2\n",
      "3\n",
      "4\n"
     ]
    }
   ],
   "source": [
    "q = w = r = 10\n",
    "print(q)\n",
    "print(w)\n",
    "print(r)\n",
    "\n",
    "z, x, y, = 2, 3, 4,\n",
    "print(z)\n",
    "print(x)\n",
    "print(y)"
   ]
  },
  {
   "cell_type": "code",
   "execution_count": 31,
   "id": "60a75a59",
   "metadata": {},
   "outputs": [
    {
     "name": "stdout",
     "output_type": "stream",
     "text": [
      "Nama Saya Adalah adeng\n",
      "Umur Saya 21\n"
     ]
    }
   ],
   "source": [
    "age = 21\n",
    "name = \"adeng\"\n",
    "print(\"Nama Saya Adalah\",name)\n",
    "print(\"Umur Saya\",age)\n"
   ]
  },
  {
   "cell_type": "code",
   "execution_count": 33,
   "id": "7e02241e",
   "metadata": {},
   "outputs": [
    {
     "name": "stdout",
     "output_type": "stream",
     "text": [
      "19\n",
      "-1\n",
      "90\n",
      "0.9\n",
      "0\n",
      "3486784401\n",
      "9\n",
      "10\n"
     ]
    }
   ],
   "source": [
    "a = 9\n",
    "b = 10\n",
    "print(a+b) #tambah\n",
    "print(a-b) #pengurangan\n",
    "print(a*b) #perkalian\n",
    "print(a/b) #pembagian desimal\n",
    "print(a//b) #pembagian interger\n",
    "print(a**b) #pangkat\n",
    "print(a%b) #modulo\n",
    "\n",
    "print(a+b-a)"
   ]
  },
  {
   "cell_type": "code",
   "execution_count": 39,
   "id": "cc170ecc",
   "metadata": {},
   "outputs": [
    {
     "name": "stdout",
     "output_type": "stream",
     "text": [
      "False\n",
      "True\n",
      "True\n",
      "True\n",
      "True\n",
      "False\n",
      "False\n"
     ]
    }
   ],
   "source": [
    "a = 9\n",
    "b = 10\n",
    "c = 9\n",
    "print(a == b)\n",
    "print(a == c)\n",
    "print(a != b)\n",
    "print(a <= b)\n",
    "print(a < b)\n",
    "print(a >=b )\n",
    "print(a > b)"
   ]
  },
  {
   "cell_type": "code",
   "execution_count": 44,
   "id": "4a9eef80",
   "metadata": {},
   "outputs": [
    {
     "name": "stdout",
     "output_type": "stream",
     "text": [
      "python\n",
      "pypypypypypypypypypy\n",
      "True\n",
      "False\n"
     ]
    }
   ],
   "source": [
    "q = 'py'\n",
    "w = 'thon'\n",
    "print(q+w)\n",
    "print(q*b)\n",
    "print(q in 'python')\n",
    "print(w in 'pyThon')"
   ]
  },
  {
   "cell_type": "code",
   "execution_count": 46,
   "id": "b1921b4d",
   "metadata": {},
   "outputs": [
    {
     "name": "stdout",
     "output_type": "stream",
     "text": [
      "HACTIVE8\n",
      "hactive8\n",
      "Hactive8\n",
      "hACTIVE8\n",
      "Hactive8\n"
     ]
    }
   ],
   "source": [
    "h = 'Hactive8'\n",
    "print(h.upper())\n",
    "print(h.lower())\n",
    "print(h.capitalize())\n",
    "print(h.swapcase())\n",
    "print(h.title())"
   ]
  },
  {
   "cell_type": "code",
   "execution_count": null,
   "id": "fc6e962f",
   "metadata": {},
   "outputs": [],
   "source": []
  },
  {
   "cell_type": "code",
   "execution_count": null,
   "id": "d17ecb1f",
   "metadata": {},
   "outputs": [],
   "source": []
  },
  {
   "cell_type": "code",
   "execution_count": null,
   "id": "5198656f",
   "metadata": {},
   "outputs": [],
   "source": []
  },
  {
   "cell_type": "code",
   "execution_count": 63,
   "id": "f934c7a0",
   "metadata": {},
   "outputs": [
    {
     "name": "stdout",
     "output_type": "stream",
     "text": [
      "[1, 2, 43, 'a', True, ['b', 300, False], 4.6, 2, 9, 10, 9, 'Python', 'KS19', 'asoyyy']\n",
      "['Python', 'KS19', 'asoyyy', 'Python', 'KS19', 'asoyyy', 'Python', 'KS19', 'asoyyy']\n",
      "11\n",
      "asoyyy\n",
      "KS19\n",
      "[1, 2, 43, 'a', True, ['b', 300, False], 4.6, 2, ['Python', 'KS19', 'asoyyy'], 10, 9]\n",
      "[1, 'malam gan', 43, 'a', True, ['b', 300, False], 4.6, 2, ['Python', 'KS19', 'asoyyy'], 10, 9]\n",
      "[1.5, 2.3, 'a', True, ['b', 300, False], 4.6, 2, ['Python', 'KS19', 'asoyyy'], 10, 9]\n"
     ]
    }
   ],
   "source": [
    "#index ke 0 1 2    3   4           5            6    7  8 9 10\n",
    "daftar = [1,2,43, 'a', True, ['b', 300, False], 4.6, 1+1,a,b,c]\n",
    "py = ['Python', 'KS19', 'asoyyy']\n",
    "#print(daftar)\n",
    "#print(daftar[2])\n",
    "#print(daftar[4])\n",
    "#print(daftar[0])\n",
    "#print(daftar[1:6])\n",
    "print(daftar + py)\n",
    "print(py * 3)\n",
    "print(len(daftar))\n",
    "print(max(py))\n",
    "print(min(py))\n",
    "\n",
    "#del daftar[3]\n",
    "#print(daftar)\n",
    "daftar[8]=py\n",
    "print(daftar)\n",
    "\n",
    "daftar[1]= 'malam gan'\n",
    "print(daftar)\n",
    "\n",
    "daftar[:3] = [1.5, 2.3]\n",
    "print(daftar)"
   ]
  },
  {
   "cell_type": "code",
   "execution_count": 66,
   "id": "1fe468a4",
   "metadata": {},
   "outputs": [
    {
     "name": "stdout",
     "output_type": "stream",
     "text": [
      "[1, 2, 43, 'a', True, ['b', 300, False], 4.6, 2, 9, 10, 9]\n",
      "[2, 43, 'a', True]\n"
     ]
    }
   ],
   "source": [
    "tapel = [1,2,43, 'a', True, ['b', 300, False], 4.6, 1+1,a,b,c]\n",
    "print(tapel)\n",
    "print(tapel[1:5])"
   ]
  },
  {
   "cell_type": "code",
   "execution_count": 67,
   "id": "9b336b2b",
   "metadata": {},
   "outputs": [],
   "source": [
    "z, x, y, = 2, 3, 4,"
   ]
  },
  {
   "cell_type": "code",
   "execution_count": null,
   "id": "55354be1",
   "metadata": {},
   "outputs": [],
   "source": []
  },
  {
   "cell_type": "code",
   "execution_count": 73,
   "id": "9a2db0b2",
   "metadata": {},
   "outputs": [
    {
     "ename": "IndentationError",
     "evalue": "unexpected indent (Temp/ipykernel_23872/865022210.py, line 2)",
     "output_type": "error",
     "traceback": [
      "\u001b[1;36m  File \u001b[1;32m\"C:\\Users\\Asus\\AppData\\Local\\Temp/ipykernel_23872/865022210.py\"\u001b[1;36m, line \u001b[1;32m2\u001b[0m\n\u001b[1;33m    print(kamus['apa'])\u001b[0m\n\u001b[1;37m    ^\u001b[0m\n\u001b[1;31mIndentationError\u001b[0m\u001b[1;31m:\u001b[0m unexpected indent\n"
     ]
    }
   ],
   "source": [
    "kamus = {'apa' : 'what', 'siapa' : 'who', 'bagaimana' : 'how'}\n",
    " print(kamus['apa'])\n",
    "kamus['kapan'] = 'when'\n",
    "    "
   ]
  },
  {
   "cell_type": "code",
   "execution_count": 77,
   "id": "e9a831ac",
   "metadata": {},
   "outputs": [
    {
     "ename": "SyntaxError",
     "evalue": "invalid syntax (Temp/ipykernel_23872/2654918120.py, line 6)",
     "output_type": "error",
     "traceback": [
      "\u001b[1;36m  File \u001b[1;32m\"C:\\Users\\Asus\\AppData\\Local\\Temp/ipykernel_23872/2654918120.py\"\u001b[1;36m, line \u001b[1;32m6\u001b[0m\n\u001b[1;33m    alamat['akses'] = ['KRL':'bisa', 'TJ':{'bisa':'tapi susah'}, 'ojol':'tidak bisa']\u001b[0m\n\u001b[1;37m                            ^\u001b[0m\n\u001b[1;31mSyntaxError\u001b[0m\u001b[1;31m:\u001b[0m invalid syntax\n"
     ]
    }
   ],
   "source": [
    "alamat = {}\n",
    "alamat['jalan'] = 'situ baru'\n",
    "alamat['kota'] = ['padang']\n",
    "alamat['nomor rumah'] = 20\n",
    "alamat['pohon'] = ['cendana', 'mahoni', 'beringin']\n",
    "alamat['akses'] = ['KRL':'bisa', 'TJ':{'bisa':'tapi susah'}, 'ojol':'tidak bisa']\n",
    "\n",
    "print(alamat)\n",
    "print(alamat['pohon'][1]) = 1\n",
    "\n",
    "\n"
   ]
  },
  {
   "cell_type": "code",
   "execution_count": 78,
   "id": "7f910dab",
   "metadata": {},
   "outputs": [],
   "source": [
    "a = 10\n",
    "b = 2\n",
    "c = 10\n",
    "\n",
    "d = (\n",
    "    a == b\n",
    "    or c==a\n",
    "    or a==c\n",
    ")"
   ]
  }
 ],
 "metadata": {
  "kernelspec": {
   "display_name": "Python 3 (ipykernel)",
   "language": "python",
   "name": "python3"
  },
  "language_info": {
   "codemirror_mode": {
    "name": "ipython",
    "version": 3
   },
   "file_extension": ".py",
   "mimetype": "text/x-python",
   "name": "python",
   "nbconvert_exporter": "python",
   "pygments_lexer": "ipython3",
   "version": "3.9.7"
  }
 },
 "nbformat": 4,
 "nbformat_minor": 5
}
