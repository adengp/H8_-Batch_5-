{
 "cells": [
  {
   "cell_type": "code",
   "execution_count": 3,
   "id": "89e39110",
   "metadata": {},
   "outputs": [
    {
     "data": {
      "text/plain": [
       "True"
      ]
     },
     "execution_count": 3,
     "metadata": {},
     "output_type": "execute_result"
    }
   ],
   "source": [
    "a = 2\n",
    "b = 2\n",
    "\n",
    "a == b\n",
    "a != b\n",
    "a > b\n",
    "a >= b\n",
    "a < b\n",
    "a <= b"
   ]
  },
  {
   "cell_type": "code",
   "execution_count": 7,
   "id": "b4d5ed59",
   "metadata": {},
   "outputs": [
    {
     "name": "stdout",
     "output_type": "stream",
     "text": [
      "ya\n",
      "a lebih besar atau sama dengan b\n"
     ]
    }
   ],
   "source": [
    "if a == b:\n",
    "    print(\"ya\")\n",
    "    \n",
    "if a < b:\n",
    "    print(\"a besar dari b\")\n",
    "    \n",
    "if a >= b:\n",
    "    print(\"a lebih besar atau sama dengan b\")"
   ]
  },
  {
   "cell_type": "code",
   "execution_count": 10,
   "id": "74c8d7b9",
   "metadata": {},
   "outputs": [
    {
     "name": "stdout",
     "output_type": "stream",
     "text": [
      "jalankan else\n",
      "Paling bawah\n"
     ]
    }
   ],
   "source": [
    "if a != b:\n",
    "    print(\"ya\")\n",
    "    print( \"a dan b sama\")\n",
    "    \n",
    "else:\n",
    "    print(\"jalankan else\")\n",
    "    \n",
    "    \n",
    "print(\"Paling bawah\")"
   ]
  },
  {
   "cell_type": "code",
   "execution_count": 15,
   "id": "d4f6d73a",
   "metadata": {},
   "outputs": [
    {
     "name": "stdout",
     "output_type": "stream",
     "text": [
      "uang kamu tidak cukup untuk berbelanja. nabung lagi yaa\n"
     ]
    }
   ],
   "source": [
    "harga_buku = 15000\n",
    "harga_majalah = 35000\n",
    "uang = 10000\n",
    "\n",
    "if uang > harga_majalah:\n",
    "    print(\"uang kamu cukup memebeli majalah\")\n",
    "    \n",
    "elif uang >= harga_buku:\n",
    "    print(\"uang kamu cukup untuk membeli buku\")\n",
    "else:\n",
    "    print(\"uang kamu tidak cukup untuk berbelanja. nabung lagi yaa\")"
   ]
  },
  {
   "cell_type": "code",
   "execution_count": 20,
   "id": "0eb3951d",
   "metadata": {},
   "outputs": [
    {
     "name": "stdout",
     "output_type": "stream",
     "text": [
      "1 kecil dari 2\n"
     ]
    }
   ],
   "source": [
    "if 1 < 2:\n",
    "    print(\"1 kecil dari 2\")\n",
    "    \n",
    "if 2 == 1:\n",
    "    print(\"2 sama dengan 1\")\n",
    "    \n",
    "elif 1 > 2:\n",
    "    print(\" 1 kecil dari 2\")"
   ]
  },
  {
   "cell_type": "code",
   "execution_count": 25,
   "id": "70950fb3",
   "metadata": {},
   "outputs": [
    {
     "name": "stdout",
     "output_type": "stream",
     "text": [
      "ada\n",
      "a\n",
      "dalam\n",
      "bara\n"
     ]
    }
   ],
   "source": [
    "if 'a' in 'bara': \n",
    "    print('ada');\n",
    "    print('a');\n",
    "    print('dalam');\n",
    "    print('bara');"
   ]
  },
  {
   "cell_type": "code",
   "execution_count": 28,
   "id": "6f92f52c",
   "metadata": {},
   "outputs": [
    {
     "name": "stdout",
     "output_type": "stream",
     "text": [
      "let's go to the library\n"
     ]
    }
   ],
   "source": [
    "raining = True\n",
    "print(\"let's go to the\", 'beach' if not raining else 'library')"
   ]
  },
  {
   "cell_type": "code",
   "execution_count": 30,
   "id": "706debd3",
   "metadata": {},
   "outputs": [],
   "source": [
    "m = a if a > b else b\n"
   ]
  },
  {
   "cell_type": "code",
   "execution_count": 32,
   "id": "6067e81d",
   "metadata": {},
   "outputs": [
    {
     "name": "stdout",
     "output_type": "stream",
     "text": [
      "foo\n"
     ]
    }
   ],
   "source": [
    "if True:\n",
    "    pass\n",
    "print('foo')"
   ]
  },
  {
   "cell_type": "code",
   "execution_count": null,
   "id": "81fc05ba",
   "metadata": {},
   "outputs": [],
   "source": []
  },
  {
   "cell_type": "code",
   "execution_count": null,
   "id": "334b197f",
   "metadata": {},
   "outputs": [],
   "source": []
  },
  {
   "cell_type": "code",
   "execution_count": null,
   "id": "5d721fca",
   "metadata": {},
   "outputs": [],
   "source": [
    "n =  5\n",
    "while n > 0:\n",
    "    n=n -1\n",
    "    print(n)"
   ]
  },
  {
   "cell_type": "code",
   "execution_count": null,
   "id": "b9938060",
   "metadata": {},
   "outputs": [],
   "source": [
    "n =  5\n",
    "while n > 0:\n",
    "    n = n -1\n",
    "    print(n)\n",
    "    \n",
    "print(' while loop selesai')"
   ]
  },
  {
   "cell_type": "code",
   "execution_count": null,
   "id": "fe383439",
   "metadata": {},
   "outputs": [],
   "source": [
    "n =  5\n",
    "while n > 0:\n",
    "    n -= 1\n",
    "    print(n)\n",
    "    if n == 2:\n",
    "        break\n",
    "    \n",
    "print(' while loop selesai')"
   ]
  },
  {
   "cell_type": "code",
   "execution_count": null,
   "id": "6a131e64",
   "metadata": {},
   "outputs": [],
   "source": [
    "while True:\n",
    "    password = input(' masukan password kamu')\n",
    "    if password == 'adeng':\n",
    "        break\n",
    "    else:\n",
    "        print('password yang kamu masukan salah')"
   ]
  },
  {
   "cell_type": "code",
   "execution_count": null,
   "id": "e1c0fc19",
   "metadata": {},
   "outputs": [],
   "source": []
  }
 ],
 "metadata": {
  "kernelspec": {
   "display_name": "Python 3 (ipykernel)",
   "language": "python",
   "name": "python3"
  },
  "language_info": {
   "codemirror_mode": {
    "name": "ipython",
    "version": 3
   },
   "file_extension": ".py",
   "mimetype": "text/x-python",
   "name": "python",
   "nbconvert_exporter": "python",
   "pygments_lexer": "ipython3",
   "version": "3.9.7"
  }
 },
 "nbformat": 4,
 "nbformat_minor": 5
}
